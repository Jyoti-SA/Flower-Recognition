{
 "cells": [
  {
   "cell_type": "markdown",
   "metadata": {},
   "source": [
    "# Reconocimiento de Flores\n",
    "\n",
    "## Práctica Final - Visión por computador\n",
    "---\n",
    "##### Autores: Marta Gómez Macías, Braulio Vargas López\n",
    "---\n",
    "\n",
    "### Definición del problema\n",
    "\n",
    "El problema elegido consiste en extraer una serie de características del conjunto de imágenes para ser capaces de reconocer la especie de flor que es de las 17 especies posibles, mediante una imagen. Este problema consta de varias partes:\n",
    "\n",
    "1. __Extracción de las características principales de la imagen__.\n",
    "2. __Entrenar un algoritmo de aprendizaje a partir de las características extraídas__.\n",
    "\n",
    "Para esto, vamos a hacer uso de distintos descriptores, como son el descriptor *HOG*, *Shape-Context* o el descriptor de SIFT.\n",
    "\n",
    "#### Descriptor de HOG\n",
    "\n",
    "El descriptor HOG, conocido como ___Histogram of Oriented Gradientes___ muy utilizado para la detección de objetos. Este descriptor computa un histograma de valores donde se indican la frecuencia con la que se dan las direcciones de los gradientes en pequeñas divisiones de la imagen. \n",
    "\n",
    "#### Descriptor Shape-Context\n",
    "\n",
    "\n",
    "#### Descriptor de SIFT\n",
    "\n",
    "\n",
    "\n",
    "### Enfoque de la implementación y eficiencia.\n",
    "\n",
    "Para la implementación "
   ]
  }
 ],
 "metadata": {
  "kernelspec": {
   "display_name": "Python 3",
   "language": "python",
   "name": "python3"
  },
  "language_info": {
   "codemirror_mode": {
    "name": "ipython",
    "version": 3
   },
   "file_extension": ".py",
   "mimetype": "text/x-python",
   "name": "python",
   "nbconvert_exporter": "python",
   "pygments_lexer": "ipython3",
   "version": "3.6.0"
  }
 },
 "nbformat": 4,
 "nbformat_minor": 2
}
