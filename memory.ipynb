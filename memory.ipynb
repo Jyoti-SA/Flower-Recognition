{
 "cells": [
  {
   "cell_type": "markdown",
   "metadata": {},
   "source": [
    "# Reconocimiento de Flores\n",
    "\n",
    "## Práctica Final - Visión por computador\n",
    "---\n",
    "##### Autores: Marta Gómez Macías, Braulio Vargas López\n",
    "---\n",
    "\n",
    "### Definición del problema\n",
    "\n",
    "El problema elegido consiste en extraer una serie de características del conjunto de imágenes para ser capaces de reconocer la especie de flor que es de las 17 especies posibles, mediante una imagen. Este problema consta de varias partes:\n",
    "\n",
    "1. __Extracción de las características principales de la imagen__.\n",
    "2. __Entrenar un algoritmo de aprendizaje a partir de las características extraídas__.\n",
    "\n",
    "Para esto, vamos a hacer uso de distintos descriptores, como son el descriptor *HOG*, *Shape-Context* o el descriptor de SIFT.\n",
    "\n",
    "#### Descriptor de HOG\n",
    "\n",
    "El descriptor HOG, conocido como ___Histogram of Oriented Gradientes___ muy utilizado para la detección de objetos. Este descriptor computa un histograma de valores donde se indican la frecuencia con la que se dan las direcciones de los gradientes en pequeñas divisiones de la imagen. \n",
    "\n",
    "#### Descriptor Shape-Context\n",
    "\n",
    "\n",
    "#### Descriptor de SIFT\n",
    "\n",
    "\n",
    "\n",
    "### Enfoque de la implementación y eficiencia.\n",
    "\n",
    "#### Implementación del descriptor de HOG"
   ]
  },
  {
   "cell_type": "code",
   "execution_count": 1,
   "metadata": {
    "collapsed": true
   },
   "outputs": [],
   "source": [
    "# Compute the hog descriptor for an image\n",
    "def hog_descriptor(image, n_bins = 16):\n",
    "    # We get the derivatives of the image\n",
    "    dx = cv2.Sobel(image, cv2.CV_32F, 1, 0)\n",
    "    dy = cv2.Sobel(image, cv2.CV_32F, 0, 1)\n",
    "    # Calculate the magnitude and the angle\n",
    "    magnitude, angle = cv2.cartToPolar(dx, dy)\n",
    "    # Quantizing binvalues in (0..n_bins)\n",
    "    binvalues = np.int32(n_bins*angle/(2*np.pi))\n",
    "    # Divide the image on 4 squares and compute\n",
    "    # the histogram\n",
    "    magn_cells = magnitude[:10,:10], magnitude[10:,:10], magnitude[:10,10:], magnitude[10:,10:]\n",
    "    B_cells = binvalues[:10,:10], binvalues[10:,:10], binvalues[:10,10:], binvalues[10:,10:]\n",
    "    # With \"bincount\" we can count the number of occurrences of a\n",
    "    # flat array to create the histogram. Those flats arrays we can\n",
    "    # create it with the NumPy function \"ravel\"\n",
    "    histogram = [np.bincount(bin_cell.ravel(), magn.ravel(), n_bins) \\\n",
    "                    for bin_cell, magn in zip(B_cells, magn_cells)]\n",
    "    # And return an array with the histogram\n",
    "    return np.hstack(histogram)"
   ]
  },
  {
   "cell_type": "markdown",
   "metadata": {},
   "source": [
    "#### Implementación del modelo de aprendizaje\n",
    "Para realizar los modelos de aprendizaje, hemos usado la librería `ml` de _OpenCV_, más concretamente hemos entrenado un modelo _Support Vector Machine_ y un modelo _Random Forest_. A la hora de dividir los datos en conjunto de training y test, hemos procurado que haya, al menos, una imagen de cada clase en ambos conjuntos."
   ]
  },
  {
   "cell_type": "code",
   "execution_count": null,
   "metadata": {
    "collapsed": true
   },
   "outputs": [],
   "source": [
    "def create_train_subset():\n",
    "    subset = []\n",
    "    for i in range(0,1360,80):\n",
    "        subset += np.random.randint(low=i,high=i+80,size=4).tolist()\n",
    "\n",
    "    return np.array(subset)\n",
    "\n",
    "\n",
    "test_mask = create_train_subset()\n",
    "aux = np.arange(1360)\n",
    "training_mask = np.in1d(aux, test_mask) * 1\n",
    "training_mask = np.where(training_mask == 0)[0]"
   ]
  }
 ],
 "metadata": {
  "kernelspec": {
   "display_name": "Python 3",
   "language": "python",
   "name": "python3"
  },
  "language_info": {
   "codemirror_mode": {
    "name": "ipython",
    "version": 3
   },
   "file_extension": ".py",
   "mimetype": "text/x-python",
   "name": "python",
   "nbconvert_exporter": "python",
   "pygments_lexer": "ipython3",
   "version": "3.6.0"
  }
 },
 "nbformat": 4,
 "nbformat_minor": 2
}
